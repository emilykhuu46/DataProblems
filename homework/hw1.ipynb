{
 "cells": [
  {
   "cell_type": "markdown",
   "id": "87a8f15a-0093-4506-aac4-a0f3344e6007",
   "metadata": {},
   "source": [
    "**Exercise 2.** The \"diabetes_prediction_dataset.csv\" file has a lot of entries. Create 3 new CSV files, each with about 1/3 of the data.  \n",
    "\n",
    "head -n 1 Heart_Disease_Prediction.csv  \n",
    "head -n 1 diabetes_prediction_dataset.csv > diabetes1.csv  \n",
    "head -n 1 diabetes_prediction_dataset.csv > diabetes2.csv  \n",
    "head -n 1 diabetes_prediction_dataset.csv > diabetes3.csv  \n",
    "\n",
    "wc -l diabetes_prediction_dataset.csv  \n",
    "total_entries=$(wc -l < diabetes_prediction_datset.csv)  \n",
    "\n",
    "split_entries=$((total_entries/3))  \n",
    "\n",
    "tail -n +2 diabetes_prediction_dataset.csv | head -n 4splite_entries >> diabetes1.csv  \n",
    "\n",
    "tail -n +$((split_entries + 2)) diabetes_prediction_dataset.csv | head -n $split_entries >> diabetes2.csv  \n",
    "\n",
    "tail -n +4((2 * split_entries + 2)) diabetes_prediction_dataset.csv | head -n $split_entries >> diabetes3.csv  "
   ]
  },
  {
   "cell_type": "markdown",
   "id": "e5fe8815-938a-4511-9b14-818eaa491d6c",
   "metadata": {},
   "source": [
    "**Exercise 3.** Create 2 new CSV files from Heart_Disease_Prediction.csv, one containing rows with \"Presence\" label and another with \"Absence\" label. Make sure that the first line of each file contains the field names.  \n",
    "\n",
    "head -n 1 Heart_Disease_Prediction.csv > Presence.csv  \n",
    "head -n 1 Heart_Disease_Prediction.csv > Absence.csv  \n",
    "\n",
    "grep \"Presence\" Heart_Disease_Prediction.csv >> Presence.csv  \n",
    "grep \"Absence\" Heart_Disease_Prediction.csv >> Absence.csv  \n",
    "\r\n"
   ]
  },
  {
   "cell_type": "markdown",
   "id": "e572640b-04a5-4da0-bc90-6dde8b50d820",
   "metadata": {},
   "source": [
    "**Exercise 4.** What fraction of cars in car_web_scraped_dataset.csv have had no accidents?\n",
    "\n",
    "grep \"No accidents reported\" car_web_scraped_dataset.csv | wc -l"
   ]
  },
  {
   "cell_type": "markdown",
   "id": "9e27d08d-c7da-4827-8fe1-ab0a54cda92f",
   "metadata": {},
   "source": [
    "**Exercise 5.** Make the following replacements in Housing.csv, output the result into a new CSV:  \n",
    "\r",
    "-\n",
    "yes ->   1-\r\n",
    "no ->   -0\r\n",
    "unfurnished -  >- 0\r\n",
    "furnished   --> 1\r\n",
    "semi-furnished   \n",
    "  \n",
    "sed -e 's/yes/1/g; s/no/0/g; s/unfurnished/0/g; s/,furnished/1/g; s/semi-furnished/2/g' Housing.csv > Modified_Housing.csv-> 2\r\n"
   ]
  },
  {
   "cell_type": "markdown",
   "id": "368ca563-49ac-4da2-9b81-0ee57a54324f",
   "metadata": {},
   "source": [
    "**Exercise 6.** Create a new CSV files from Mall_Customers, removing \"CustomerID\" column.  \n",
    "\n",
    "cut -d ',' -f 2- Mall_Customers.csv > Modified_Mall_Customers.csv"
   ]
  },
  {
   "cell_type": "markdown",
   "id": "b92aa5b7-f37d-4b0e-9f9b-4357eeac62d2",
   "metadata": {},
   "source": [
    "**Exericse 7.** Create a new file that contains the sum of the following fields for each row:  \n",
    "\n",
    "Research Quality Score, Industry Score, Internation Outlook, Research Environmet Score\n",
    "\n",
    "cut -f 5,6,7,8 -d ',' world\\ all\\ univerdity\\ rank\\ score.csv | tr -s ',' '+' | bccorecore"
   ]
  },
  {
   "cell_type": "markdown",
   "id": "e609faa2-ebad-478f-9639-662a09dee1ac",
   "metadata": {},
   "source": [
    "**Exercise 8.** Sort the \"cancer patient data sets.csv\" file by age. Make sure the output is a readable CSV file.  \n",
    "\n",
    "sort -t ',' -k 3 -n  \"cancer patient data sets.csv\" > sorted_cancer_patient.csv  \n",
    "\n"
   ]
  },
  {
   "cell_type": "code",
   "execution_count": null,
   "id": "bd2716f9-4ddc-4591-b5cd-769877b864e0",
   "metadata": {},
   "outputs": [],
   "source": []
  }
 ],
 "metadata": {
  "kernelspec": {
   "display_name": "Python 3 (ipykernel)",
   "language": "python",
   "name": "python3"
  },
  "language_info": {
   "codemirror_mode": {
    "name": "ipython",
    "version": 3
   },
   "file_extension": ".py",
   "mimetype": "text/x-python",
   "name": "python",
   "nbconvert_exporter": "python",
   "pygments_lexer": "ipython3",
   "version": "3.10.12"
  }
 },
 "nbformat": 4,
 "nbformat_minor": 5
}
